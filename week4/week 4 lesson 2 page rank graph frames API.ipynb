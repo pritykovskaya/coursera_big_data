{
 "cells": [
  {
   "cell_type": "code",
   "execution_count": 3,
   "metadata": {
    "collapsed": false
   },
   "outputs": [
    {
     "name": "stdout",
     "output_type": "stream",
     "text": [
      "Welcome to\n",
      "      ____              __\n",
      "     / __/__  ___ _____/ /__\n",
      "    _\\ \\/ _ \\/ _ `/ __/  '_/\n",
      "   /__ / .__/\\_,_/_/ /_/\\_\\   version 1.6.3\n",
      "      /_/\n",
      "\n",
      "Using Python version 2.7.13 (default, Dec 20 2016 23:05:08)\n",
      "SparkContext available as sc, HiveContext available as sqlContext.\n",
      "Warning: ADD_FILES environment variable is deprecated, use --py-files argument instead\n",
      "Adding files: [/Users/pritykovskaya/development/graphframes-0.3.0-spark1.6-s_2.10.jar]\n"
     ]
    }
   ],
   "source": [
    "import os\n",
    "execfile(os.path.join(os.environ[\"SPARK_HOME\"], 'python/pyspark/shell.py'))"
   ]
  },
  {
   "cell_type": "code",
   "execution_count": 4,
   "metadata": {
    "collapsed": false
   },
   "outputs": [],
   "source": [
    "from graphframes import *"
   ]
  },
  {
   "cell_type": "code",
   "execution_count": 9,
   "metadata": {
    "collapsed": false
   },
   "outputs": [
    {
     "name": "stdout",
     "output_type": "stream",
     "text": [
      "+---+-------------------+\n",
      "| id|           pagerank|\n",
      "+---+-------------------+\n",
      "|  1|   1.01935961862719|\n",
      "|  2|   1.01935961862719|\n",
      "|  4| 0.7202143452359088|\n",
      "|  6|0.43337602947710424|\n",
      "|  3| 2.0084281384336697|\n",
      "|  5| 0.7202143452359088|\n",
      "|  7|0.43337602947710424|\n",
      "+---+-------------------+\n",
      "\n",
      "+---+---+-------------------+\n",
      "|src|dst|             weight|\n",
      "+---+---+-------------------+\n",
      "|  3|  1|0.16666666666666666|\n",
      "|  3|  2|0.16666666666666666|\n",
      "|  3|  4|0.16666666666666666|\n",
      "|  3|  6|0.16666666666666666|\n",
      "|  3|  5|0.16666666666666666|\n",
      "|  3|  7|0.16666666666666666|\n",
      "|  1|  2| 0.3333333333333333|\n",
      "|  1|  4| 0.3333333333333333|\n",
      "|  1|  3| 0.3333333333333333|\n",
      "|  5|  2|                0.5|\n",
      "|  5|  3|                0.5|\n",
      "|  2|  1| 0.3333333333333333|\n",
      "|  2|  3| 0.3333333333333333|\n",
      "|  2|  5| 0.3333333333333333|\n",
      "|  7|  3|                1.0|\n",
      "|  4|  1|                0.5|\n",
      "|  4|  3|                0.5|\n",
      "|  6|  3|                1.0|\n",
      "+---+---+-------------------+\n",
      "\n"
     ]
    }
   ],
   "source": [
    "from graphframes.examples import Graphs\n",
    "\n",
    "vertices = sqlCtx.createDataFrame([\n",
    "  (\"1\", \"Alex\", 28, \"M\", \"MIPT\"),\n",
    "  (\"2\", \"Emeli\", 28, \"F\", \"MIPT\"),\n",
    "  (\"3\", \"Natasha\", 27, \"F\", \"SPbSU\"),\n",
    "  (\"4\", \"Pavel\", 30, \"M\", \"MIPT\"),\n",
    "  (\"5\", \"Oleg\", 35, \"M\", \"MIPT\"),\n",
    "  (\"6\", \"Ivan\", 30, \"M\", \"MSU\"),\n",
    "  (\"7\", \"Ilya\", 29, \"M\", \"MSU\")], [\"id\", \"name\", \"age\", \"gender\", \"university\"])\n",
    "\n",
    "edges = sqlCtx.createDataFrame([\n",
    "  (\"1\", \"2\", \"friend\"),\n",
    "  (\"2\", \"1\", \"friend\"),\n",
    "  (\"1\", \"3\", \"friend\"),\n",
    "  (\"3\", \"1\", \"friend\"),\n",
    "  (\"1\", \"4\", \"friend\"),\n",
    "  (\"4\", \"1\", \"friend\"),\n",
    "  (\"2\", \"3\", \"friend\"),\n",
    "  (\"3\", \"2\", \"friend\"),\n",
    "  (\"2\", \"5\", \"friend\"),\n",
    "  (\"5\", \"2\", \"friend\"),\n",
    "  (\"3\", \"4\", \"friend\"),\n",
    "  (\"4\", \"3\", \"friend\"),\n",
    "  (\"3\", \"5\", \"friend\"),\n",
    "  (\"5\", \"3\", \"friend\"),\n",
    "  (\"3\", \"6\", \"friend\"),\n",
    "  (\"6\", \"3\", \"friend\"),\n",
    "  (\"3\", \"7\", \"friend\"),\n",
    "  (\"7\", \"3\", \"friend\")\n",
    "], [\"src\", \"dst\", \"type\"])\n",
    "\n",
    "g = GraphFrame(vertices, edges)"
   ]
  },
  {
   "cell_type": "code",
   "execution_count": 17,
   "metadata": {
    "collapsed": false
   },
   "outputs": [
    {
     "name": "stdout",
     "output_type": "stream",
     "text": [
      "+---+-------+---+------+----------+-------------------+\n",
      "| id|   name|age|gender|university|           pagerank|\n",
      "+---+-------+---+------+----------+-------------------+\n",
      "|  1|   Alex| 28|     M|      MIPT|   1.01935961862719|\n",
      "|  2|  Emeli| 28|     F|      MIPT|   1.01935961862719|\n",
      "|  4|  Pavel| 30|     M|      MIPT| 0.7202143452359088|\n",
      "|  6|   Ivan| 30|     M|       MSU|0.43337602947710424|\n",
      "|  3|Natasha| 27|     F|     SPbSU| 2.0084281384336697|\n",
      "|  5|   Oleg| 35|     M|      MIPT| 0.7202143452359088|\n",
      "|  7|   Ilya| 29|     M|       MSU|0.43337602947710424|\n",
      "+---+-------+---+------+----------+-------------------+\n",
      "\n"
     ]
    }
   ],
   "source": [
    "# Run PageRank until convergence to tolerance \"tol\".\n",
    "results = g.pageRank(resetProbability=0.15, tol=0.01)\n",
    "results.vertices.show()"
   ]
  },
  {
   "cell_type": "code",
   "execution_count": 18,
   "metadata": {
    "collapsed": false
   },
   "outputs": [
    {
     "name": "stdout",
     "output_type": "stream",
     "text": [
      "+---+---+------+-------------------+\n",
      "|src|dst|  type|             weight|\n",
      "+---+---+------+-------------------+\n",
      "|  3|  1|friend|0.16666666666666666|\n",
      "|  3|  2|friend|0.16666666666666666|\n",
      "|  3|  4|friend|0.16666666666666666|\n",
      "|  3|  6|friend|0.16666666666666666|\n",
      "|  3|  5|friend|0.16666666666666666|\n",
      "|  3|  7|friend|0.16666666666666666|\n",
      "|  1|  2|friend| 0.3333333333333333|\n",
      "|  1|  4|friend| 0.3333333333333333|\n",
      "|  1|  3|friend| 0.3333333333333333|\n",
      "|  5|  2|friend|                0.5|\n",
      "|  5|  3|friend|                0.5|\n",
      "|  2|  1|friend| 0.3333333333333333|\n",
      "|  2|  3|friend| 0.3333333333333333|\n",
      "|  2|  5|friend| 0.3333333333333333|\n",
      "|  7|  3|friend|                1.0|\n",
      "|  4|  1|friend|                0.5|\n",
      "|  4|  3|friend|                0.5|\n",
      "|  6|  3|friend|                1.0|\n",
      "+---+---+------+-------------------+\n",
      "\n"
     ]
    }
   ],
   "source": [
    "results.edges.show()"
   ]
  },
  {
   "cell_type": "code",
   "execution_count": 15,
   "metadata": {
    "collapsed": false
   },
   "outputs": [
    {
     "name": "stdout",
     "output_type": "stream",
     "text": [
      "+---+-------+---+------+----------+------------------+\n",
      "| id|   name|age|gender|university|          pagerank|\n",
      "+---+-------+---+------+----------+------------------+\n",
      "|  1|   Alex| 28|     M|      MIPT| 0.925034321035054|\n",
      "|  2|  Emeli| 28|     F|      MIPT| 0.925034321035054|\n",
      "|  4|  Pavel| 30|     M|      MIPT|0.6561021410596017|\n",
      "|  6|   Ivan| 30|     M|       MSU|0.4038005647844105|\n",
      "|  3|Natasha| 27|     F|     SPbSU|1.8587232404145666|\n",
      "|  5|   Oleg| 35|     M|      MIPT|0.6561021410596017|\n",
      "|  7|   Ilya| 29|     M|       MSU|0.4038005647844105|\n",
      "+---+-------+---+------+----------+------------------+\n",
      "\n"
     ]
    }
   ],
   "source": [
    "# Run PageRank for a fixed number of iterations.\n",
    "results2 = g.pageRank(resetProbability=0.15, maxIter=10)\n",
    "results2.vertices.show()"
   ]
  },
  {
   "cell_type": "code",
   "execution_count": null,
   "metadata": {
    "collapsed": true
   },
   "outputs": [],
   "source": []
  },
  {
   "cell_type": "code",
   "execution_count": null,
   "metadata": {
    "collapsed": true
   },
   "outputs": [],
   "source": []
  },
  {
   "cell_type": "code",
   "execution_count": null,
   "metadata": {
    "collapsed": true
   },
   "outputs": [],
   "source": [
    "# Run PageRank personalized for vertex \"a\"\n",
    "# results3 = g.pageRank(resetProbability=0.15, maxIter=10, sourceId=\"a\")"
   ]
  },
  {
   "cell_type": "code",
   "execution_count": 12,
   "metadata": {
    "collapsed": false
   },
   "outputs": [
    {
     "name": "stdout",
     "output_type": "stream",
     "text": [
      "+---+-------+---+------+----------+-------------------+\n",
      "| id|   name|age|gender|university|           pagerank|\n",
      "+---+-------+---+------+----------+-------------------+\n",
      "|  1|   Alex| 28|     M|      MIPT|   1.01935961862719|\n",
      "|  2|  Emeli| 28|     F|      MIPT|   1.01935961862719|\n",
      "|  4|  Pavel| 30|     M|      MIPT| 0.7202143452359088|\n",
      "|  6|   Ivan| 30|     M|       MSU|0.43337602947710424|\n",
      "|  3|Natasha| 27|     F|     SPbSU| 2.0084281384336697|\n",
      "|  5|   Oleg| 35|     M|      MIPT| 0.7202143452359088|\n",
      "|  7|   Ilya| 29|     M|       MSU|0.43337602947710424|\n",
      "+---+-------+---+------+----------+-------------------+\n",
      "\n"
     ]
    }
   ],
   "source": []
  },
  {
   "cell_type": "code",
   "execution_count": 13,
   "metadata": {
    "collapsed": false
   },
   "outputs": [
    {
     "name": "stdout",
     "output_type": "stream",
     "text": [
      "+---+-------+---+------+----------+------------------+\n",
      "| id|   name|age|gender|university|          pagerank|\n",
      "+---+-------+---+------+----------+------------------+\n",
      "|  1|   Alex| 28|     M|      MIPT| 0.925034321035054|\n",
      "|  2|  Emeli| 28|     F|      MIPT| 0.925034321035054|\n",
      "|  4|  Pavel| 30|     M|      MIPT|0.6561021410596017|\n",
      "|  6|   Ivan| 30|     M|       MSU|0.4038005647844105|\n",
      "|  3|Natasha| 27|     F|     SPbSU|1.8587232404145666|\n",
      "|  5|   Oleg| 35|     M|      MIPT|0.6561021410596017|\n",
      "|  7|   Ilya| 29|     M|       MSU|0.4038005647844105|\n",
      "+---+-------+---+------+----------+------------------+\n",
      "\n"
     ]
    }
   ],
   "source": [
    "results2.vertices.show()"
   ]
  },
  {
   "cell_type": "code",
   "execution_count": null,
   "metadata": {
    "collapsed": true
   },
   "outputs": [],
   "source": []
  }
 ],
 "metadata": {
  "kernelspec": {
   "display_name": "Python 2",
   "language": "python",
   "name": "python2"
  },
  "language_info": {
   "codemirror_mode": {
    "name": "ipython",
    "version": 2
   },
   "file_extension": ".py",
   "mimetype": "text/x-python",
   "name": "python",
   "nbconvert_exporter": "python",
   "pygments_lexer": "ipython2",
   "version": "2.7.13"
  }
 },
 "nbformat": 4,
 "nbformat_minor": 2
}

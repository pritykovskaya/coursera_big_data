{
 "cells": [
  {
   "cell_type": "code",
   "execution_count": 1,
   "metadata": {
    "collapsed": false
   },
   "outputs": [
    {
     "name": "stdout",
     "output_type": "stream",
     "text": [
      "Welcome to\n",
      "      ____              __\n",
      "     / __/__  ___ _____/ /__\n",
      "    _\\ \\/ _ \\/ _ `/ __/  '_/\n",
      "   /__ / .__/\\_,_/_/ /_/\\_\\   version 1.6.3\n",
      "      /_/\n",
      "\n",
      "Using Python version 2.7.13 (default, Dec 20 2016 23:05:08)\n",
      "SparkContext available as sc, HiveContext available as sqlContext.\n",
      "Warning: ADD_FILES environment variable is deprecated, use --py-files argument instead\n",
      "Adding files: [/Users/pritykovskaya/development/graphframes-0.3.0-spark1.6-s_2.10.jar]\n"
     ]
    }
   ],
   "source": [
    "import os\n",
    "execfile(os.path.join(os.environ[\"SPARK_HOME\"], 'python/pyspark/shell.py'))"
   ]
  },
  {
   "cell_type": "code",
   "execution_count": 2,
   "metadata": {
    "collapsed": true
   },
   "outputs": [],
   "source": [
    "from pyspark.sql import SQLContext\n",
    "sqlCtx = SQLContext(sc)"
   ]
  },
  {
   "cell_type": "code",
   "execution_count": 4,
   "metadata": {
    "collapsed": false
   },
   "outputs": [],
   "source": [
    "from graphframes import *"
   ]
  },
  {
   "cell_type": "code",
   "execution_count": 10,
   "metadata": {
    "collapsed": false
   },
   "outputs": [
    {
     "ename": "SyntaxError",
     "evalue": "invalid syntax (<ipython-input-10-9cddc8007ac8>, line 8)",
     "output_type": "error",
     "traceback": [
      "\u001b[0;36m  File \u001b[0;32m\"<ipython-input-10-9cddc8007ac8>\"\u001b[0;36m, line \u001b[0;32m8\u001b[0m\n\u001b[0;31m    .select(minValue(col(\"SRC\"), col(\"DST\")).as(\"SRC\"), maxValue(col(\"SRC\"), col(\"DST\")).as(\"DST\")).distinct()\u001b[0m\n\u001b[0m                                              ^\u001b[0m\n\u001b[0;31mSyntaxError\u001b[0m\u001b[0;31m:\u001b[0m invalid syntax\n"
     ]
    }
   ],
   "source": [
    "def prepare(graph):\n",
    "    vertices = graph.vertices.indexedVertices\n",
    "        .select(col(\"LONG_ID\").as(\"ID\"), col(\"ATTR\"))\n",
    "    \n",
    "    edges = graph.indexedEdges\n",
    "        .select(col(\"LONG_SRC\").as(\"SRC\"), col(\"LONG_DST\").as(\"DST\"))\n",
    "    \n",
    "    orderedEdges = {\n",
    "        edges.filter(col(\"src\") != col(\"dst\"))\n",
    "          .select(minValue(col(\"src\"), col(\"dst\")).as(\"src\"), \n",
    "                  maxValue(col(\"src\"), col(\"dst\")).as(\"dst\"))\n",
    "          .distinct()\n",
    "    }\n",
    "    \n",
    "    GraphFrame(vertices, orderedEdges)\n",
    "  "
   ]
  },
  {
   "cell_type": "code",
   "execution_count": null,
   "metadata": {
    "collapsed": true
   },
   "outputs": [],
   "source": [
    "def minNbrs(edges):\n",
    "    symmetrized_edges = ee.unionAll(ee.select(col(\"dst\").as(\"src\"), col(\"src\").as(\"dst\")))\n",
    "    \n",
    "    symmetrized_edges.groupBy(\"src\").agg(min(col(\"dst\")).as(\"min_nbr\"), count(\"*\").as(\"cnt\"))"
   ]
  },
  {
   "cell_type": "code",
   "execution_count": null,
   "metadata": {
    "collapsed": true
   },
   "outputs": [],
   "source": [
    "def skewedJoin(edges, minNbrs, broadcastThreshold):\n",
    "    import edges.sqlContext.implicits._\n",
    "    hubs = {\n",
    "        minNbrs.filter(col(\"cnt\") > broadcastThreshold)\n",
    "            .select(\"src\")\n",
    "            .as[Long]\n",
    "            .collect()\n",
    "            .toSet\n",
    "    }\n",
    "    GraphFrame.skewedJoin(edges, minNbrs, \"src\", hubs)\n",
    "  "
   ]
  },
  {
   "cell_type": "code",
   "execution_count": null,
   "metadata": {
    "collapsed": true
   },
   "outputs": [],
   "source": [
    "def run(graph, broadcastThreshold):\n",
    "    \n",
    "    g = prepare(graph)\n",
    "    vv = g.vertices\n",
    "    ee = g.edges.persist(StorageLevel.MEMORY_AND_DISK)\n",
    "    \n",
    "    converged = False\n",
    "    iteration = 1\n",
    "    prevSum = None\n",
    "    \n",
    "    while (!converged):\n",
    "        # large-star step\n",
    "        # compute min neighbors including self\n",
    "        minNbrs1 = minNbrs(ee)\n",
    "            .withColumn(\"min_nbr\", minValue(col(\"src\"), col(\"min_nbr\")).as(\"min_nbr\"))\n",
    "            .persist(StorageLevel.MEMORY_AND_DISK)\n",
    "            \n",
    "        # connect all strictly larger neighbors to the min neighbor (including self)\n",
    "        ee = skewedJoin(ee, minNbrs1, broadcastThreshold)\n",
    "            .select(col(\"dst\").as(\"src\"), col(\"min_nbr\").as(\"dst\")) # src > dst\n",
    "            .distinct()\n",
    "            .persist(StorageLevel.MEMORY_AND_DISK)\n",
    "\n",
    "        # small-star step\n",
    "        # compute min neighbors\n",
    "        minNbrs2 = minNbrs(ee)\n",
    "            .persist(StorageLevel.MEMORY_AND_DISK)\n",
    "\n",
    "        # connect all smaller neighbors to the min neighbor\n",
    "          ee = skewedJoin(ee, minNbrs2, broadcastThreshold)\n",
    "            .select(col(\"min_nbr\").as(\"src\"), col(\"dst\")) # src <= dst\n",
    "        \n",
    "        # connect self to the min neighbor\n",
    "          ee = ee\n",
    "            .unionAll(\n",
    "              minNbrs2.select( # src <= dst\n",
    "                minValue(col(\"src\"), col(\"min_nbr\")).as(\"src\"),\n",
    "                maxValue(col(\"src\"), col(\"min_nbr\")).as(\"dst\")))\n",
    "            .filter(col(\"src\") !== col(\"dst\")) # src < dst\n",
    "            .distinct()\n",
    "            \n",
    "        ee.persist(StorageLevel.MEMORY_AND_DISK)\n",
    "\n",
    "        # test convergence\n",
    "        (currSum, cnt) = ee.select(sum(col(\"src\")), count(\"*\")).rdd.first()\n",
    "        if (currSum == prevSum) {\n",
    "            # This also covers the case when cnt = 0 and currSum is None, which means no edges.\n",
    "            converged = true\n",
    "        } else {\n",
    "            prevSum = currSum\n",
    "        }\n",
    "        iteration += 1\n",
    "    \n",
    "    vv.join(ee, vv(\"id\") === ee(\"dst\"), \"left_outer\")\n",
    "        .select(vv(\"attr\"), when(ee(\"src\").isNull, vv(\"id\")).otherwise(ee(\"src\")).as(\"component\"))\n",
    "        .select(col(s\"$ATTR.*\"), col(\"component\"))\n",
    "  "
   ]
  }
 ],
 "metadata": {
  "kernelspec": {
   "display_name": "Python 2",
   "language": "python",
   "name": "python2"
  },
  "language_info": {
   "codemirror_mode": {
    "name": "ipython",
    "version": 2
   },
   "file_extension": ".py",
   "mimetype": "text/x-python",
   "name": "python",
   "nbconvert_exporter": "python",
   "pygments_lexer": "ipython2",
   "version": "2.7.13"
  }
 },
 "nbformat": 4,
 "nbformat_minor": 2
}

{
 "cells": [
  {
   "cell_type": "code",
   "execution_count": 1,
   "metadata": {
    "collapsed": false
   },
   "outputs": [
    {
     "name": "stdout",
     "output_type": "stream",
     "text": [
      "Welcome to\n",
      "      ____              __\n",
      "     / __/__  ___ _____/ /__\n",
      "    _\\ \\/ _ \\/ _ `/ __/  '_/\n",
      "   /__ / .__/\\_,_/_/ /_/\\_\\   version 1.6.3\n",
      "      /_/\n",
      "\n",
      "Using Python version 2.7.13 (default, Dec 20 2016 23:05:08)\n",
      "SparkContext available as sc, HiveContext available as sqlContext.\n",
      "Warning: ADD_FILES environment variable is deprecated, use --py-files argument instead\n",
      "Adding files: [/Users/pritykovskaya/development/graphframes-0.3.0-spark1.6-s_2.10.jar]\n"
     ]
    }
   ],
   "source": [
    "import os\n",
    "execfile(os.path.join(os.environ[\"SPARK_HOME\"], 'python/pyspark/shell.py'))"
   ]
  },
  {
   "cell_type": "code",
   "execution_count": 3,
   "metadata": {
    "collapsed": true
   },
   "outputs": [],
   "source": [
    "from graphframes import * \n",
    "\n",
    "vertices = sqlCtx.createDataFrame([\n",
    "  (\"1\", \"Alex\", 28, \"M\", \"MIPT\"),\n",
    "  (\"2\", \"Emeli\", 28, \"F\", \"MIPT\"),\n",
    "  (\"3\", \"Natasha\", 27, \"F\", \"SPbSU\"),\n",
    "  (\"4\", \"Pavel\", 30, \"M\", \"MIPT\"),\n",
    "  (\"5\", \"Oleg\", 35, \"M\", \"MIPT\"),\n",
    "  (\"6\", \"Ivan\", 30, \"M\", \"MSU\"),\n",
    "  (\"7\", \"Ilya\", 29, \"M\", \"MSU\")], [\"id\", \"name\", \"age\", \"gender\", \"university\"])\n",
    "\n",
    "edges = sqlCtx.createDataFrame([\n",
    "  (\"1\", \"2\", \"friend\"),\n",
    "  (\"1\", \"4\", \"friend\"),\n",
    "  (\"3\", \"5\", \"friend\"),\n",
    "  (\"3\", \"6\", \"friend\"),\n",
    "  (\"3\", \"7\", \"friend\")\n",
    "], [\"src\", \"dst\", \"type\"])\n",
    "\n",
    "gf = GraphFrame(vertices, edges)"
   ]
  },
  {
   "cell_type": "code",
   "execution_count": 5,
   "metadata": {
    "collapsed": false
   },
   "outputs": [
    {
     "name": "stdout",
     "output_type": "stream",
     "text": [
      "+---+---------+\n",
      "| id|component|\n",
      "+---+---------+\n",
      "|  4|        0|\n",
      "|  2|        0|\n",
      "|  1|        0|\n",
      "|  6|        3|\n",
      "|  5|        3|\n",
      "|  3|        3|\n",
      "|  7|        3|\n",
      "+---+---------+\n",
      "\n"
     ]
    }
   ],
   "source": [
    "result = gf.connectedComponents()\n",
    "result.select(\"id\", \"component\").orderBy(\"component\").show()"
   ]
  },
  {
   "cell_type": "code",
   "execution_count": null,
   "metadata": {
    "collapsed": true
   },
   "outputs": [],
   "source": []
  }
 ],
 "metadata": {
  "kernelspec": {
   "display_name": "Python 2",
   "language": "python",
   "name": "python2"
  },
  "language_info": {
   "codemirror_mode": {
    "name": "ipython",
    "version": 2
   },
   "file_extension": ".py",
   "mimetype": "text/x-python",
   "name": "python",
   "nbconvert_exporter": "python",
   "pygments_lexer": "ipython2",
   "version": "2.7.13"
  }
 },
 "nbformat": 4,
 "nbformat_minor": 2
}

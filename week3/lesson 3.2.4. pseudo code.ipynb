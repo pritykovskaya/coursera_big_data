{
 "cells": [
  {
   "cell_type": "code",
   "execution_count": 5,
   "metadata": {
    "collapsed": true
   },
   "outputs": [],
   "source": [
    "def nestAsCol(df, colName):\n",
    "    return df "
   ]
  },
  {
   "cell_type": "code",
   "execution_count": null,
   "metadata": {
    "collapsed": true
   },
   "outputs": [],
   "source": [
    "gf.vertices.select(nestAsCol(gf.vertices, \"n\"))"
   ]
  },
  {
   "cell_type": "code",
   "execution_count": 3,
   "metadata": {
    "collapsed": true
   },
   "outputs": [],
   "source": [
    "patterns = []\n",
    "\n",
    "def findIncremental(a,b,c,d):\n",
    "    return true"
   ]
  },
  {
   "cell_type": "code",
   "execution_count": 4,
   "metadata": {
    "collapsed": true
   },
   "outputs": [],
   "source": [
    "prevDF = None\n",
    "prevNames = set()\n",
    "\n",
    "for curPattern in patterns:\n",
    "    (DF, names) = findIncremental(gf, prevDF, prevNames, curPattern)\n",
    "    prevDF = DF\n",
    "    prevNames = names"
   ]
  },
  {
   "cell_type": "code",
   "execution_count": 7,
   "metadata": {
    "collapsed": true
   },
   "outputs": [],
   "source": [
    "def namedVertex(vertexName):\n",
    "    \n",
    "    if vertexName in prevNames:\n",
    "        return (prevDF, prevNames)\n",
    "    else:\n",
    "        one_column_vertices_df = nestAsCol(gf.vertices, vertexName)\n",
    "        if prevDF is not None:\n",
    "            return (prevDF.join(one_column_vertices_df), \n",
    "                    prevNames.add(vertexName))\n",
    "        else:\n",
    "            return (one_column_vertices_df, \n",
    "                    prevNames.add(vertexName))"
   ]
  },
  {
   "cell_type": "code",
   "execution_count": null,
   "metadata": {
    "collapsed": true
   },
   "outputs": [],
   "source": [
    "def anonimVertex():\n",
    "    \n",
    "    return (prevDF, prevNames)"
   ]
  },
  {
   "cell_type": "code",
   "execution_count": null,
   "metadata": {
    "collapsed": true
   },
   "outputs": [],
   "source": [
    "def NamedEdge(edgeName, src: AnonimVertex, dst: AnonimVertex):\n",
    "    \n",
    "    one_column_edges_df = nestAsCol(gf.edges, edgeName)\n",
    "    return (prevDF.join(one_column_edges_df), \n",
    "            prevNames.add(edgeName))\n"
   ]
  },
  {
   "cell_type": "code",
   "execution_count": null,
   "metadata": {
    "collapsed": true
   },
   "outputs": [],
   "source": [
    "def NamedEdge(edgeName, src: AnonimVertex, dst: NamedVertex):\n",
    "    one_column_edges_df = nestAsCol(gf.edges, edgeName)\n",
    "\n",
    "    if dstVertexName in prevNames:\n",
    "        return (prevDF.join(one_column_edges_df, \n",
    "                            \n",
    "                predDF.dstVertexName.id == one_column_edges_df.edgeName.dst), \n",
    "                \n",
    "                prevNames.add(edgeName))\n",
    "    else:\n",
    "        one_column_vertices_df = nestAsCol(gf.vertices, dstVertexName)\n",
    "        \n",
    "        tmpDF = one_column_edges_df.join(one_column_vertices_df, \n",
    "                one_column_edges_df.edgeName.dst == \n",
    "                                         one_column_vertices_df.dstVertexName.id)\n",
    "        \n",
    "        return (prevDF.join(tmpDF), prevNames.union([edgeName, dstVertexName]))\n",
    "    \n"
   ]
  },
  {
   "cell_type": "code",
   "execution_count": null,
   "metadata": {
    "collapsed": true
   },
   "outputs": [],
   "source": [
    "def NamedEdge(edgeName, src: NamedVertex, dst: AnonimVertex):\n",
    "    one_column_edges_df = nestAsCol(gf.edges, edgeName)\n",
    "\n",
    "    if srcVertexName in prevNames:\n",
    "        return (prevDF.join(one_column_edges_df, \n",
    "                predDF.srcVertexName.id == one_column_edges_df.edgeName.src), \n",
    "                prevNames.add(edgeName))\n",
    "    else:\n",
    "        one_column_vertices_df = nestAsCol(gf.vertices, srcVertexName)\n",
    "        tmpDF = one_column_edges_df.join(one_column_vertices_df, \n",
    "                one_column_edges_df.edgeName.src == one_column_vertices_df.srcVertexName.id)\n",
    "        return (prevDF.join(tmpDF), prevNames.union([edgeName, srcVertexName]))\n",
    "    \n"
   ]
  },
  {
   "cell_type": "code",
   "execution_count": null,
   "metadata": {
    "collapsed": true
   },
   "outputs": [],
   "source": [
    "def NamedEdge(edgeName, src: NamedVertex, dst: NamedVertex):\n",
    "\n",
    "    one_column_edges_df = nestAsCol(gf.edges, edgeName)\n",
    "    \n",
    "    if srcVertexName in prevNames and dstVertexName not in prevNames:\n",
    "\n",
    "        one_column_vertices_df = nestAsCol(gf.vertices, dstVertexName)\n",
    "\n",
    "        tmpDF = one_column_edges_df.join(one_column_vertices_df, \n",
    "                one_column_edges_df.edgeName.dst == one_column_vertices_df.dstVertexName.id)\n",
    "        return (prevDF.join(tmpDF, predDF.srcVertexName.id == tmpDF.edgeName.src), \n",
    "                prevNames.union([edgeName, dstVertexName]))\n",
    "    \n",
    "    \n",
    "\n",
    "    if srcVertexName not in prevNames and dstVertexName not in prevNames:\n",
    "\n",
    "        one_column_src_vertices_df = nestAsCol(gf.vertices, srcVertexName)\n",
    "        one_column_dst_vertices_df = nestAsCol(gf.vertices, dstVertexName)\n",
    "\n",
    "        tmpDF = one_column_edges_df.join(one_column_vertices_df, \n",
    "                one_column_edges_df.edgeName.dst == one_column_vertices_df.dstVertexName.id)\n",
    "        tmpDF2 = tmpDF.join(one_column_src_vertices_df, \n",
    "                tmpDF.edgeName.src == one_column_src_vertices_df.srcVertexName.id)\n",
    "        \n",
    "        return (prevDF.join(tmpDF2), prevNames.union([edgeName, srcVertexName, dstVertexName]))\n",
    "    \n",
    "    if srcVertexName in prevNames and dstVertexName in prevNames:\n",
    "\n",
    "        return (prevDF.join(one_column_edges_df, \n",
    "                            one_column_edges_df.edgeName.src == predDF.srcVertexName.id \n",
    "                            and one_column_edges_df.edgeName.dst == predDF.dstVertexName.id), \n",
    "                prevNames)\n",
    "    \n",
    "    if srcVertexName not in prevNames and dstVertexName in prevNames:\n",
    "\n",
    "        one_column_vertices_df = nestAsCol(gf.vertices, srcVertexName)\n",
    "\n",
    "        tmpDF = one_column_edges_df.join(one_column_vertices_df, \n",
    "                one_column_edges_df.edgeName.src == one_column_vertices_df.srcVertexName.id)\n",
    "        \n",
    "        return (prevDF.join(tmpDF, predDF.dstVertexName.id == tmpDF.edgeName.dst), \n",
    "                prevNames.union([edgeName, srcVertexName]))\n",
    "    \n",
    "    "
   ]
  },
  {
   "cell_type": "code",
   "execution_count": null,
   "metadata": {
    "collapsed": true
   },
   "outputs": [],
   "source": [
    "def AnonymouseEdge(src: AnonymousVertex | NamedVertex, dst: AnonymousVertex | NamedVertex):\n",
    "    \n",
    "    curPattern = NamedEdge(\"___tmp\", \n",
    "                           src: AnonymousVertex | NamedVertex, \n",
    "                           dst: AnonymousVertex | NamedVertex)\n",
    "    \n",
    "    (DF, names) = findIncremental(gf, prevDF, prevNames, curPattern)\n",
    "    return (DF.drop(\"___tmp\"), names.remove(\"___tmp\"))\n"
   ]
  },
  {
   "cell_type": "code",
   "execution_count": null,
   "metadata": {
    "collapsed": true
   },
   "outputs": [],
   "source": [
    "def Negation(edge: NamedEdge | AnonymousEdge):\n",
    "    \n",
    "    (tmpDF, names) = findIncremental(gf, prevPatterns, prevDF, edge) \n",
    "    return (prevDF.except(tmpDF), names)"
   ]
  }
 ],
 "metadata": {
  "kernelspec": {
   "display_name": "Python 2",
   "language": "python",
   "name": "python2"
  },
  "language_info": {
   "codemirror_mode": {
    "name": "ipython",
    "version": 2
   },
   "file_extension": ".py",
   "mimetype": "text/x-python",
   "name": "python",
   "nbconvert_exporter": "python",
   "pygments_lexer": "ipython2",
   "version": "2.7.13"
  }
 },
 "nbformat": 4,
 "nbformat_minor": 2
}

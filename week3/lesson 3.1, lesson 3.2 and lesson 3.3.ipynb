{
 "cells": [
  {
   "cell_type": "code",
   "execution_count": 1,
   "metadata": {
    "collapsed": false
   },
   "outputs": [
    {
     "name": "stdout",
     "output_type": "stream",
     "text": [
      "Welcome to\n",
      "      ____              __\n",
      "     / __/__  ___ _____/ /__\n",
      "    _\\ \\/ _ \\/ _ `/ __/  '_/\n",
      "   /__ / .__/\\_,_/_/ /_/\\_\\   version 1.6.3\n",
      "      /_/\n",
      "\n",
      "Using Python version 2.7.13 (default, Dec 20 2016 23:05:08)\n",
      "SparkContext available as sc, HiveContext available as sqlContext.\n",
      "Warning: ADD_FILES environment variable is deprecated, use --py-files argument instead\n",
      "Adding files: [/Users/pritykovskaya/development/graphframes-0.3.0-spark1.6-s_2.10.jar]\n"
     ]
    }
   ],
   "source": [
    "import os\n",
    "execfile(os.path.join(os.environ[\"SPARK_HOME\"], 'python/pyspark/shell.py'))"
   ]
  },
  {
   "cell_type": "code",
   "execution_count": 2,
   "metadata": {
    "collapsed": true
   },
   "outputs": [],
   "source": [
    "from pyspark.sql import SQLContext\n",
    "sqlCtx = SQLContext(sc)"
   ]
  },
  {
   "cell_type": "markdown",
   "metadata": {},
   "source": [
    "## lesson 3.1"
   ]
  },
  {
   "cell_type": "code",
   "execution_count": 4,
   "metadata": {
    "collapsed": true
   },
   "outputs": [],
   "source": [
    "from pyspark.sql.types import StructType, StructField, IntegerType, StringType\n",
    "from pyspark.sql import Row\n",
    "\n",
    "edgeList = [(1, 2), (1, 3), (1, 4), (2, 3), (2, 5), (3, 4), (3, 5), (3, 6), (3, 7)]\n",
    "\n",
    "graphData = sc.parallelize(edgeList).map(lambda (src, dst): Row(src, dst))\n",
    "\n",
    "graphSchemaAB = StructType([StructField('A', IntegerType(), nullable=False),\n",
    "                       StructField('B', StringType(), nullable=False)])\n",
    "\n",
    "abDF = sqlCtx.createDataFrame(graphData, graphSchemaAB)\n",
    "\n",
    "graphSchemaBC1 = StructType([StructField('B', IntegerType(), nullable=False),\n",
    "                       StructField('C', StringType(), nullable=False)])\n",
    "bcDF = sqlCtx.createDataFrame(graphData, graphSchemaBC1)"
   ]
  },
  {
   "cell_type": "code",
   "execution_count": 5,
   "metadata": {
    "collapsed": false
   },
   "outputs": [
    {
     "name": "stdout",
     "output_type": "stream",
     "text": [
      "+---+---+\n",
      "|  A|  B|\n",
      "+---+---+\n",
      "|  1|  2|\n",
      "|  1|  3|\n",
      "|  1|  4|\n",
      "|  2|  3|\n",
      "|  2|  5|\n",
      "|  3|  4|\n",
      "|  3|  5|\n",
      "|  3|  6|\n",
      "|  3|  7|\n",
      "+---+---+\n",
      "\n"
     ]
    }
   ],
   "source": [
    "abDF.show()"
   ]
  },
  {
   "cell_type": "code",
   "execution_count": 5,
   "metadata": {
    "collapsed": false
   },
   "outputs": [
    {
     "name": "stdout",
     "output_type": "stream",
     "text": [
      "+---+---+\n",
      "|  B|  C|\n",
      "+---+---+\n",
      "|  1|  2|\n",
      "|  1|  3|\n",
      "|  1|  4|\n",
      "|  2|  3|\n",
      "|  2|  5|\n",
      "|  3|  4|\n",
      "|  3|  5|\n",
      "|  3|  6|\n",
      "|  3|  7|\n",
      "+---+---+\n",
      "\n"
     ]
    }
   ],
   "source": [
    "bcDF.show()"
   ]
  },
  {
   "cell_type": "code",
   "execution_count": 6,
   "metadata": {
    "collapsed": false
   },
   "outputs": [
    {
     "name": "stdout",
     "output_type": "stream",
     "text": [
      "+---+---+---+\n",
      "|  B|  A|  C|\n",
      "+---+---+---+\n",
      "|  3|  1|  4|\n",
      "|  3|  1|  5|\n",
      "|  3|  1|  6|\n",
      "|  3|  1|  7|\n",
      "|  3|  2|  4|\n",
      "|  3|  2|  5|\n",
      "|  3|  2|  6|\n",
      "|  3|  2|  7|\n",
      "|  2|  1|  3|\n",
      "|  2|  1|  5|\n",
      "+---+---+---+\n",
      "\n"
     ]
    }
   ],
   "source": [
    "abcDF = abDF.join(bcDF, \"B\")\n",
    "abcDF.show()"
   ]
  },
  {
   "cell_type": "code",
   "execution_count": 7,
   "metadata": {
    "collapsed": false
   },
   "outputs": [
    {
     "name": "stdout",
     "output_type": "stream",
     "text": [
      "+---+---+---+\n",
      "|  B|  A|  C|\n",
      "+---+---+---+\n",
      "|  3|  1|  4|\n",
      "|  3|  1|  5|\n",
      "|  3|  1|  6|\n",
      "|  3|  1|  7|\n",
      "|  2|  1|  3|\n",
      "|  2|  1|  5|\n",
      "+---+---+---+\n",
      "\n"
     ]
    }
   ],
   "source": [
    "abcDF = abDF.join(bcDF, \"B\")\n",
    "\n",
    "abcDF.filter(\"A = 1\").show()\n"
   ]
  },
  {
   "cell_type": "code",
   "execution_count": 8,
   "metadata": {
    "collapsed": false
   },
   "outputs": [
    {
     "name": "stdout",
     "output_type": "stream",
     "text": [
      "+---+---+-----+\n",
      "|  A|  C|count|\n",
      "+---+---+-----+\n",
      "|  1|  3|    1|\n",
      "|  1|  4|    1|\n",
      "|  1|  5|    2|\n",
      "|  1|  6|    1|\n",
      "|  1|  7|    1|\n",
      "+---+---+-----+\n",
      "\n"
     ]
    }
   ],
   "source": [
    "abcDF.drop(\"B\") \\\n",
    "    .groupBy(\"A\", \"C\") \\\n",
    "    .count() \\\n",
    "    .filter(\"A = 1\") \\\n",
    "    .show()"
   ]
  },
  {
   "cell_type": "markdown",
   "metadata": {},
   "source": [
    "## lesson 3.2"
   ]
  },
  {
   "cell_type": "code",
   "execution_count": 3,
   "metadata": {
    "collapsed": true
   },
   "outputs": [],
   "source": [
    "from graphframes import * \n",
    "\n",
    "vertices = sqlCtx.createDataFrame([\n",
    "  (\"1\", \"Alex\", 28, \"M\", \"MIPT\"),\n",
    "  (\"2\", \"Emeli\", 28, \"F\", \"MIPT\"),\n",
    "  (\"3\", \"Natasha\", 27, \"F\", \"SPbSU\"),\n",
    "  (\"4\", \"Pavel\", 30, \"M\", \"MIPT\"),\n",
    "  (\"5\", \"Oleg\", 35, \"M\", \"MIPT\"),\n",
    "  (\"6\", \"Ivan\", 30, \"M\", \"MSU\"),\n",
    "  (\"7\", \"Ilya\", 29, \"M\", \"MSU\")], [\"id\", \"name\", \"age\", \"gender\", \"university\"])\n",
    "\n",
    "edges = sqlCtx.createDataFrame([\n",
    "  (\"1\", \"2\", \"friend\"),\n",
    "  (\"2\", \"1\", \"friend\"),\n",
    "  (\"1\", \"3\", \"friend\"),\n",
    "  (\"3\", \"1\", \"friend\"),\n",
    "  (\"1\", \"4\", \"friend\"),\n",
    "  (\"4\", \"1\", \"friend\"),\n",
    "  (\"2\", \"3\", \"friend\"), \n",
    "  (\"3\", \"2\", \"friend\"),\n",
    "  (\"2\", \"5\", \"friend\"),\n",
    "  (\"5\", \"2\", \"friend\"),\n",
    "  (\"3\", \"4\", \"friend\"),\n",
    "  (\"4\", \"3\", \"friend\"),\n",
    "  (\"3\", \"5\", \"friend\"),\n",
    "  (\"5\", \"3\", \"friend\"),\n",
    "  (\"3\", \"6\", \"friend\"),\n",
    "  (\"6\", \"3\", \"friend\"),\n",
    "  (\"3\", \"7\", \"friend\"),\n",
    "  (\"7\", \"3\", \"friend\")\n",
    "], [\"src\", \"dst\", \"relationship\"])\n",
    "\n",
    "g = GraphFrame(vertices, edges)\n"
   ]
  },
  {
   "cell_type": "code",
   "execution_count": 4,
   "metadata": {
    "collapsed": false
   },
   "outputs": [
    {
     "data": {
      "text/plain": [
       "DataFrame[id: string, name: string, age: bigint, gender: string, university: string]"
      ]
     },
     "execution_count": 4,
     "metadata": {},
     "output_type": "execute_result"
    }
   ],
   "source": [
    "g.vertices.filter(\"age > 30\")"
   ]
  },
  {
   "cell_type": "code",
   "execution_count": 5,
   "metadata": {
    "collapsed": false
   },
   "outputs": [
    {
     "name": "stdout",
     "output_type": "stream",
     "text": [
      "+---+--------+\n",
      "| id|inDegree|\n",
      "+---+--------+\n",
      "|  1|       3|\n",
      "|  2|       3|\n",
      "|  3|       6|\n",
      "+---+--------+\n",
      "\n"
     ]
    }
   ],
   "source": [
    "g.inDegrees.filter(\"inDegree > 2\").show()"
   ]
  },
  {
   "cell_type": "code",
   "execution_count": 6,
   "metadata": {
    "collapsed": false
   },
   "outputs": [
    {
     "name": "stdout",
     "output_type": "stream",
     "text": [
      "+---+--------+\n",
      "| id|inDegree|\n",
      "+---+--------+\n",
      "|  1|       3|\n",
      "|  2|       3|\n",
      "|  3|       6|\n",
      "|  4|       2|\n",
      "|  5|       2|\n",
      "|  6|       1|\n",
      "|  7|       1|\n",
      "+---+--------+\n",
      "\n"
     ]
    }
   ],
   "source": [
    "g.inDegrees.show()"
   ]
  },
  {
   "cell_type": "code",
   "execution_count": 7,
   "metadata": {
    "collapsed": false
   },
   "outputs": [
    {
     "name": "stdout",
     "output_type": "stream",
     "text": [
      "+------------+--------------------+--------------------+------------+\n",
      "|           e|                   a|                   b|          e2|\n",
      "+------------+--------------------+--------------------+------------+\n",
      "|[1,4,friend]|  [1,Alex,28,M,MIPT]| [4,Pavel,30,M,MIPT]|[4,1,friend]|\n",
      "|[3,4,friend]|[3,Natasha,27,F,S...| [4,Pavel,30,M,MIPT]|[4,3,friend]|\n",
      "|[2,5,friend]| [2,Emeli,28,F,MIPT]|  [5,Oleg,35,M,MIPT]|[5,2,friend]|\n",
      "|[3,5,friend]|[3,Natasha,27,F,S...|  [5,Oleg,35,M,MIPT]|[5,3,friend]|\n",
      "|[3,6,friend]|[3,Natasha,27,F,S...|   [6,Ivan,30,M,MSU]|[6,3,friend]|\n",
      "|[2,1,friend]| [2,Emeli,28,F,MIPT]|  [1,Alex,28,M,MIPT]|[1,2,friend]|\n",
      "|[3,1,friend]|[3,Natasha,27,F,S...|  [1,Alex,28,M,MIPT]|[1,3,friend]|\n",
      "|[4,1,friend]| [4,Pavel,30,M,MIPT]|  [1,Alex,28,M,MIPT]|[1,4,friend]|\n",
      "|[3,7,friend]|[3,Natasha,27,F,S...|   [7,Ilya,29,M,MSU]|[7,3,friend]|\n",
      "|[1,2,friend]|  [1,Alex,28,M,MIPT]| [2,Emeli,28,F,MIPT]|[2,1,friend]|\n",
      "|[3,2,friend]|[3,Natasha,27,F,S...| [2,Emeli,28,F,MIPT]|[2,3,friend]|\n",
      "|[5,2,friend]|  [5,Oleg,35,M,MIPT]| [2,Emeli,28,F,MIPT]|[2,5,friend]|\n",
      "|[1,3,friend]|  [1,Alex,28,M,MIPT]|[3,Natasha,27,F,S...|[3,1,friend]|\n",
      "|[2,3,friend]| [2,Emeli,28,F,MIPT]|[3,Natasha,27,F,S...|[3,2,friend]|\n",
      "|[4,3,friend]| [4,Pavel,30,M,MIPT]|[3,Natasha,27,F,S...|[3,4,friend]|\n",
      "+------------+--------------------+--------------------+------------+\n",
      "only showing top 15 rows\n",
      "\n"
     ]
    }
   ],
   "source": [
    "g.find(\"(a)-[e]->(b); (b)-[e2]->(a)\").show(15)"
   ]
  },
  {
   "cell_type": "code",
   "execution_count": 8,
   "metadata": {
    "collapsed": false
   },
   "outputs": [
    {
     "name": "stdout",
     "output_type": "stream",
     "text": [
      "+--------------------+--------------------+-------------------+\n",
      "|                   A|                   B|                  C|\n",
      "+--------------------+--------------------+-------------------+\n",
      "|  [1,Alex,28,M,MIPT]| [2,Emeli,28,F,MIPT]| [1,Alex,28,M,MIPT]|\n",
      "|[3,Natasha,27,F,S...| [2,Emeli,28,F,MIPT]| [1,Alex,28,M,MIPT]|\n",
      "|  [5,Oleg,35,M,MIPT]| [2,Emeli,28,F,MIPT]| [1,Alex,28,M,MIPT]|\n",
      "|  [1,Alex,28,M,MIPT]|[3,Natasha,27,F,S...| [1,Alex,28,M,MIPT]|\n",
      "| [2,Emeli,28,F,MIPT]|[3,Natasha,27,F,S...| [1,Alex,28,M,MIPT]|\n",
      "| [4,Pavel,30,M,MIPT]|[3,Natasha,27,F,S...| [1,Alex,28,M,MIPT]|\n",
      "|  [5,Oleg,35,M,MIPT]|[3,Natasha,27,F,S...| [1,Alex,28,M,MIPT]|\n",
      "|   [6,Ivan,30,M,MSU]|[3,Natasha,27,F,S...| [1,Alex,28,M,MIPT]|\n",
      "|   [7,Ilya,29,M,MSU]|[3,Natasha,27,F,S...| [1,Alex,28,M,MIPT]|\n",
      "|  [1,Alex,28,M,MIPT]| [4,Pavel,30,M,MIPT]| [1,Alex,28,M,MIPT]|\n",
      "|[3,Natasha,27,F,S...| [4,Pavel,30,M,MIPT]| [1,Alex,28,M,MIPT]|\n",
      "| [2,Emeli,28,F,MIPT]|  [1,Alex,28,M,MIPT]|[2,Emeli,28,F,MIPT]|\n",
      "|[3,Natasha,27,F,S...|  [1,Alex,28,M,MIPT]|[2,Emeli,28,F,MIPT]|\n",
      "| [4,Pavel,30,M,MIPT]|  [1,Alex,28,M,MIPT]|[2,Emeli,28,F,MIPT]|\n",
      "|  [1,Alex,28,M,MIPT]|[3,Natasha,27,F,S...|[2,Emeli,28,F,MIPT]|\n",
      "+--------------------+--------------------+-------------------+\n",
      "only showing top 15 rows\n",
      "\n"
     ]
    }
   ],
   "source": [
    "motifs = g.find(\"(A)-[]->(B); (B)-[]->(C)\")\n",
    "motifs.show(15)"
   ]
  },
  {
   "cell_type": "code",
   "execution_count": 9,
   "metadata": {
    "collapsed": false
   },
   "outputs": [
    {
     "name": "stdout",
     "output_type": "stream",
     "text": [
      "+--------------------+--------------------+-------------------+\n",
      "|                   A|                   B|                  C|\n",
      "+--------------------+--------------------+-------------------+\n",
      "|[3,Natasha,27,F,S...| [2,Emeli,28,F,MIPT]| [1,Alex,28,M,MIPT]|\n",
      "|  [5,Oleg,35,M,MIPT]| [2,Emeli,28,F,MIPT]| [1,Alex,28,M,MIPT]|\n",
      "| [2,Emeli,28,F,MIPT]|[3,Natasha,27,F,S...| [1,Alex,28,M,MIPT]|\n",
      "| [4,Pavel,30,M,MIPT]|[3,Natasha,27,F,S...| [1,Alex,28,M,MIPT]|\n",
      "|  [5,Oleg,35,M,MIPT]|[3,Natasha,27,F,S...| [1,Alex,28,M,MIPT]|\n",
      "|   [6,Ivan,30,M,MSU]|[3,Natasha,27,F,S...| [1,Alex,28,M,MIPT]|\n",
      "|   [7,Ilya,29,M,MSU]|[3,Natasha,27,F,S...| [1,Alex,28,M,MIPT]|\n",
      "|[3,Natasha,27,F,S...| [4,Pavel,30,M,MIPT]| [1,Alex,28,M,MIPT]|\n",
      "|[3,Natasha,27,F,S...|  [1,Alex,28,M,MIPT]|[2,Emeli,28,F,MIPT]|\n",
      "| [4,Pavel,30,M,MIPT]|  [1,Alex,28,M,MIPT]|[2,Emeli,28,F,MIPT]|\n",
      "|  [1,Alex,28,M,MIPT]|[3,Natasha,27,F,S...|[2,Emeli,28,F,MIPT]|\n",
      "| [4,Pavel,30,M,MIPT]|[3,Natasha,27,F,S...|[2,Emeli,28,F,MIPT]|\n",
      "|  [5,Oleg,35,M,MIPT]|[3,Natasha,27,F,S...|[2,Emeli,28,F,MIPT]|\n",
      "|   [6,Ivan,30,M,MSU]|[3,Natasha,27,F,S...|[2,Emeli,28,F,MIPT]|\n",
      "|   [7,Ilya,29,M,MSU]|[3,Natasha,27,F,S...|[2,Emeli,28,F,MIPT]|\n",
      "+--------------------+--------------------+-------------------+\n",
      "only showing top 15 rows\n",
      "\n"
     ]
    }
   ],
   "source": [
    "motifs = g.find(\"(A)-[]->(B); (B)-[]->(C)\").filter(\"A.id != C.id\")\n",
    "motifs.show(15)"
   ]
  },
  {
   "cell_type": "code",
   "execution_count": 10,
   "metadata": {
    "collapsed": false
   },
   "outputs": [
    {
     "name": "stdout",
     "output_type": "stream",
     "text": [
      "+---+---+\n",
      "|  A|  C|\n",
      "+---+---+\n",
      "|  3|  1|\n",
      "|  5|  1|\n",
      "|  2|  1|\n",
      "|  4|  1|\n",
      "|  5|  1|\n",
      "|  6|  1|\n",
      "|  7|  1|\n",
      "|  3|  1|\n",
      "|  3|  2|\n",
      "|  4|  2|\n",
      "|  1|  2|\n",
      "|  4|  2|\n",
      "|  5|  2|\n",
      "|  6|  2|\n",
      "|  7|  2|\n",
      "+---+---+\n",
      "only showing top 15 rows\n",
      "\n"
     ]
    }
   ],
   "source": [
    "AC = motifs.selectExpr(\"A.id as A\", \"C.id as C\")\n",
    "AC.show(15)"
   ]
  },
  {
   "cell_type": "code",
   "execution_count": 11,
   "metadata": {
    "collapsed": false
   },
   "outputs": [
    {
     "name": "stdout",
     "output_type": "stream",
     "text": [
      "+---+---+-----+\n",
      "|  A|  C|count|\n",
      "+---+---+-----+\n",
      "|  1|  2|    1|\n",
      "|  1|  3|    2|\n",
      "|  1|  4|    1|\n",
      "|  1|  5|    2|\n",
      "|  1|  6|    1|\n",
      "|  1|  7|    1|\n",
      "+---+---+-----+\n",
      "\n"
     ]
    }
   ],
   "source": [
    "AC.groupBy(\"A\", \"C\").count().filter(\"A = 1\").show()"
   ]
  },
  {
   "cell_type": "code",
   "execution_count": 14,
   "metadata": {
    "collapsed": false
   },
   "outputs": [
    {
     "name": "stdout",
     "output_type": "stream",
     "text": [
      "+---+---+-----+\n",
      "|  A|  C|count|\n",
      "+---+---+-----+\n",
      "|  4|  1|    1|\n",
      "|  4|  2|    2|\n",
      "|  4|  3|    1|\n",
      "|  4|  4|    2|\n",
      "|  4|  5|    1|\n",
      "|  4|  6|    1|\n",
      "|  4|  7|    1|\n",
      "|  5|  1|    2|\n",
      "|  5|  2|    1|\n",
      "|  5|  3|    1|\n",
      "|  5|  4|    1|\n",
      "|  5|  5|    2|\n",
      "|  5|  6|    1|\n",
      "|  5|  7|    1|\n",
      "|  6|  1|    1|\n",
      "+---+---+-----+\n",
      "only showing top 15 rows\n",
      "\n"
     ]
    }
   ],
   "source": [
    "AC.groupBy(\"A\", \"C\").count().show(15)"
   ]
  },
  {
   "cell_type": "markdown",
   "metadata": {},
   "source": [
    "## lesson 3.3"
   ]
  },
  {
   "cell_type": "code",
   "execution_count": 12,
   "metadata": {
    "collapsed": false
   },
   "outputs": [
    {
     "name": "stdout",
     "output_type": "stream",
     "text": [
      "+-----+---+-------+---+------+----------+\n",
      "|count| id|   name|age|gender|university|\n",
      "+-----+---+-------+---+------+----------+\n",
      "|    2|  1|   Alex| 28|     M|      MIPT|\n",
      "|    2|  2|  Emeli| 28|     F|      MIPT|\n",
      "|    3|  3|Natasha| 27|     F|     SPbSU|\n",
      "|    1|  4|  Pavel| 30|     M|      MIPT|\n",
      "|    1|  5|   Oleg| 35|     M|      MIPT|\n",
      "|    0|  6|   Ivan| 30|     M|       MSU|\n",
      "|    0|  7|   Ilya| 29|     M|       MSU|\n",
      "+-----+---+-------+---+------+----------+\n",
      "\n"
     ]
    }
   ],
   "source": [
    "results = g.triangleCount()\n",
    "results.show()"
   ]
  },
  {
   "cell_type": "code",
   "execution_count": null,
   "metadata": {
    "collapsed": true
   },
   "outputs": [],
   "source": [
    "edgeList = [(1, 2), (1, 3), (1, 4), (2, 3), (2, 5), (3, 4), (3, 5), (3, 6), (3, 7)]"
   ]
  },
  {
   "cell_type": "code",
   "execution_count": null,
   "metadata": {
    "collapsed": false
   },
   "outputs": [],
   "source": [
    "from pyspark.sql.types import StructType, StructField, IntegerType, StringType\n",
    "from pyspark.sql import Row\n",
    "\n",
    "edgeList = [(1, 2), (1, 3), (1, 4), (2, 3), (2, 5), (3, 4), (3, 5), (3, 6), (3, 7)]\n",
    "\n",
    "graphData = sc.parallelize(edgeList).map(lambda (src, dst): Row(src, dst))\n",
    "\n",
    "graphSchemaAB = StructType([StructField('A', IntegerType(), nullable=False),\n",
    "                       StructField('B', StringType(), nullable=False)])\n",
    "\n",
    "abDF = sqlCtx.createDataFrame(graphData, graphSchemaAB)\n",
    "\n",
    "abDF.show()"
   ]
  },
  {
   "cell_type": "code",
   "execution_count": null,
   "metadata": {
    "collapsed": true
   },
   "outputs": [],
   "source": [
    "graphSchemaBC1 = StructType([StructField('B', IntegerType(), nullable=False),\n",
    "                       StructField('C1', StringType(), nullable=False)])\n",
    "bc1DF = sqlCtx.createDataFrame(graphData, graphSchemaBC1)\n",
    "\n",
    "graphSchemaAC2 = StructType([StructField('A', IntegerType(), nullable=False),\n",
    "                       StructField('C2', StringType(), nullable=False)])\n",
    "ac2DF = sqlCtx.createDataFrame(graphData, graphSchemaAC2)"
   ]
  },
  {
   "cell_type": "code",
   "execution_count": null,
   "metadata": {
    "collapsed": false
   },
   "outputs": [],
   "source": [
    "bc1DF.show()"
   ]
  },
  {
   "cell_type": "code",
   "execution_count": null,
   "metadata": {
    "collapsed": false
   },
   "outputs": [],
   "source": [
    "ac2DF.show()"
   ]
  },
  {
   "cell_type": "code",
   "execution_count": null,
   "metadata": {
    "collapsed": false
   },
   "outputs": [],
   "source": [
    "abc1DF = abDF.join(bc1DF, \"B\")\n",
    "abc1DF.show()"
   ]
  },
  {
   "cell_type": "code",
   "execution_count": null,
   "metadata": {
    "collapsed": false
   },
   "outputs": [],
   "source": [
    "abc1c2DF = abc1DF.join(ac2DF, \"A\")\n",
    "abc1c2DF.show()"
   ]
  },
  {
   "cell_type": "code",
   "execution_count": null,
   "metadata": {
    "collapsed": false
   },
   "outputs": [],
   "source": [
    "abc1c2DF.filter(\"C1 = C2\").show()"
   ]
  },
  {
   "cell_type": "code",
   "execution_count": 17,
   "metadata": {
    "collapsed": true
   },
   "outputs": [],
   "source": [
    "from pyspark.sql.functions import *\n",
    "from pyspark.sql.types import *"
   ]
  },
  {
   "cell_type": "code",
   "execution_count": null,
   "metadata": {
    "collapsed": false
   },
   "outputs": [],
   "source": [
    "{\n",
    "    abc1c2DF.filter(\"C1 = C2\")\n",
    "    .select(array(col(\"A\"), col(\"B\"), col(\"C1\")).alias(\"triangleVertices\"))\n",
    "    .select(explode(\"triangleVertices\").alias(\"triangleVertex\"))\n",
    "    .groupBy(\"triangleVertex\")\n",
    "    .count()\n",
    "    .show()\n",
    "}"
   ]
  },
  {
   "cell_type": "code",
   "execution_count": null,
   "metadata": {
    "collapsed": true
   },
   "outputs": [],
   "source": [
    "from pyspark.sql.types import StructType, StructField, IntegerType, StringType\n",
    "from pyspark.sql import Row\n",
    "\n",
    "edgeList = [(1, 2), (1, 3), (1, 4), (2, 3), (2, 5), (3, 4), (3, 5), (3, 6), (3, 7)]\n",
    "\n",
    "graphData = sc.parallelize(edgeList).map(lambda (src, dst): Row(src, dst))\n",
    "\n",
    "graphSchemaAB = StructType([StructField('A', IntegerType(), nullable=False),\n",
    "                       StructField('B', StringType(), nullable=False)])\n",
    "\n",
    "abDF = sqlCtx.createDataFrame(graphData, graphSchemaAB)\n",
    "\n",
    "graphSchemaBC1 = StructType([StructField('B', IntegerType(), nullable=False),\n",
    "                       StructField('C1', StringType(), nullable=False)])\n",
    "bc1DF = sqlCtx.createDataFrame(graphData, graphSchemaBC1)\n",
    "\n",
    "graphSchemaAC2 = StructType([StructField('A', IntegerType(), nullable=False),\n",
    "                       StructField('C2', StringType(), nullable=False)])\n",
    "ac2DF = sqlCtx.createDataFrame(graphData, graphSchemaAC2)\n",
    "\n",
    "abc1DF = abDF.join(bc1DF, \"B\")\n",
    "abc1c2DF = abc1DF.join(ac2DF, \"A\")\n",
    "\n",
    "\n",
    "vertexTriangle = abc1c2DF.filter(\"C1 = C2\")\n",
    "    .select(array(col(\"A\"), col(\"B\"), col(\"C1\")).alias(\"triangleVertices\"))\n",
    "    .select(explode(\"triangleVertices\").alias(\"triangleVertex\"))\n",
    "    .groupBy(\"triangleVertex\")\n",
    "    .count()\n",
    "    .show()\n",
    "    "
   ]
  },
  {
   "cell_type": "code",
   "execution_count": null,
   "metadata": {
    "collapsed": false
   },
   "outputs": [],
   "source": [
    "edgeListBC = sc.broadcast(set(edgeList))\n",
    "\n",
    "# Define udf\n",
    "from pyspark.sql.functions import udf\n",
    "\n",
    "def isInEdgeList(src, dst):\n",
    "    return (int(src), int(dst)) in edgeListBC.value\n",
    "\n",
    "udfIsInEdgeList = udf(isInEdgeList, StringType())\n",
    "\n",
    "abc1DF.withColumn(\"isTriangle\", udfIsInEdgeList(\"A\", \"C1\")).show()"
   ]
  },
  {
   "cell_type": "code",
   "execution_count": 13,
   "metadata": {
    "collapsed": true
   },
   "outputs": [],
   "source": [
    "from graphframes import * \n",
    "\n",
    "vertices = sqlCtx.createDataFrame([\n",
    "  (\"1\", \"Alex\", 28, \"M\", \"MIPT\"),\n",
    "  (\"2\", \"Emeli\", 28, \"F\", \"MIPT\"),\n",
    "  (\"3\", \"Natasha\", 27, \"F\", \"SPbSU\"),\n",
    "  (\"4\", \"Pavel\", 30, \"M\", \"MIPT\"),\n",
    "  (\"5\", \"Oleg\", 35, \"M\", \"MIPT\"),\n",
    "  (\"6\", \"Ivan\", 30, \"M\", \"MSU\"),\n",
    "  (\"7\", \"Ilya\", 29, \"M\", \"MSU\")], [\"id\", \"name\", \"age\", \"gender\", \"university\"])\n",
    "\n",
    "edges = sqlCtx.createDataFrame([\n",
    "  (\"1\", \"2\", \"friend\"),\n",
    "  (\"1\", \"3\", \"friend\"),\n",
    "  (\"1\", \"4\", \"friend\"),\n",
    "  (\"2\", \"3\", \"friend\"),\n",
    "  (\"2\", \"5\", \"friend\"),\n",
    "  (\"3\", \"4\", \"friend\"),\n",
    "  (\"3\", \"5\", \"friend\"),\n",
    "  (\"3\", \"6\", \"friend\"),\n",
    "  (\"3\", \"7\", \"friend\")\n",
    "], [\"src\", \"dst\", \"type\"])\n",
    "\n",
    "g = GraphFrame(vertices, edges)"
   ]
  },
  {
   "cell_type": "code",
   "execution_count": 14,
   "metadata": {
    "collapsed": false
   },
   "outputs": [],
   "source": [
    "triangles = g.find(\"(A)-[]->(B); (B)-[]->(C); (A)-[]->(C)\")"
   ]
  },
  {
   "cell_type": "code",
   "execution_count": 15,
   "metadata": {
    "collapsed": false,
    "scrolled": true
   },
   "outputs": [
    {
     "name": "stdout",
     "output_type": "stream",
     "text": [
      "+-------------------+--------------------+--------------------+\n",
      "|                  A|                   B|                   C|\n",
      "+-------------------+--------------------+--------------------+\n",
      "| [1,Alex,28,M,MIPT]| [2,Emeli,28,F,MIPT]|[3,Natasha,27,F,S...|\n",
      "| [1,Alex,28,M,MIPT]|[3,Natasha,27,F,S...| [4,Pavel,30,M,MIPT]|\n",
      "|[2,Emeli,28,F,MIPT]|[3,Natasha,27,F,S...|  [5,Oleg,35,M,MIPT]|\n",
      "+-------------------+--------------------+--------------------+\n",
      "\n"
     ]
    }
   ],
   "source": [
    "triangles.show()"
   ]
  },
  {
   "cell_type": "code",
   "execution_count": 18,
   "metadata": {
    "collapsed": false
   },
   "outputs": [],
   "source": [
    "vertexTriangles = triangles.selectExpr(\"A.id as A\", \"B.id as B\", \"C.id as C\") \\\n",
    "    .select(array(col(\"A\"), col(\"B\"), col(\"C\")).alias(\"triangleVertices\")) \\\n",
    "    .select(explode(\"triangleVertices\").alias(\"id\")) \\\n",
    "    .groupBy(\"id\") \\\n",
    "    .count()"
   ]
  },
  {
   "cell_type": "code",
   "execution_count": 19,
   "metadata": {
    "collapsed": false
   },
   "outputs": [
    {
     "name": "stdout",
     "output_type": "stream",
     "text": [
      "+---+-----+\n",
      "| id|count|\n",
      "+---+-----+\n",
      "|  1|    2|\n",
      "|  2|    2|\n",
      "|  3|    3|\n",
      "|  4|    1|\n",
      "|  5|    1|\n",
      "+---+-----+\n",
      "\n"
     ]
    }
   ],
   "source": [
    "vertexTriangles.show()"
   ]
  },
  {
   "cell_type": "code",
   "execution_count": 20,
   "metadata": {
    "collapsed": false
   },
   "outputs": [
    {
     "name": "stdout",
     "output_type": "stream",
     "text": [
      "+---+-------+---+------+----------+-----+\n",
      "| id|   name|age|gender|university|count|\n",
      "+---+-------+---+------+----------+-----+\n",
      "|  1|   Alex| 28|     M|      MIPT|    2|\n",
      "|  2|  Emeli| 28|     F|      MIPT|    2|\n",
      "|  3|Natasha| 27|     F|     SPbSU|    3|\n",
      "|  4|  Pavel| 30|     M|      MIPT|    1|\n",
      "|  5|   Oleg| 35|     M|      MIPT|    1|\n",
      "|  6|   Ivan| 30|     M|       MSU| null|\n",
      "|  7|   Ilya| 29|     M|       MSU| null|\n",
      "+---+-------+---+------+----------+-----+\n",
      "\n"
     ]
    }
   ],
   "source": [
    "g.vertices.join(vertexTriangles, \"id\", \"left_outer\").show()"
   ]
  },
  {
   "cell_type": "code",
   "execution_count": null,
   "metadata": {
    "collapsed": true
   },
   "outputs": [],
   "source": []
  }
 ],
 "metadata": {
  "kernelspec": {
   "display_name": "Python 2",
   "language": "python",
   "name": "python2"
  },
  "language_info": {
   "codemirror_mode": {
    "name": "ipython",
    "version": 2
   },
   "file_extension": ".py",
   "mimetype": "text/x-python",
   "name": "python",
   "nbconvert_exporter": "python",
   "pygments_lexer": "ipython2",
   "version": "2.7.13"
  }
 },
 "nbformat": 4,
 "nbformat_minor": 2
}
